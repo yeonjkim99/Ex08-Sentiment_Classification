{
 "cells": [
  {
   "cell_type": "markdown",
   "id": "7896219a",
   "metadata": {},
   "source": [
    "# Ex08. 네이버 영화리뷰 감성분석 도전하기"
   ]
  },
  {
   "cell_type": "markdown",
   "id": "8639173c",
   "metadata": {},
   "source": [
    "## 0. 환경구축 및 필요한 패키지 import"
   ]
  },
  {
   "cell_type": "code",
   "execution_count": 1,
   "id": "5336fbaa",
   "metadata": {},
   "outputs": [
    {
     "name": "stdout",
     "output_type": "stream",
     "text": [
      "ln: failed to create symbolic link '/aiffel/aiffel/sentiment_classification/data/ratings_test.txt': File exists\r\n",
      "ln: failed to create symbolic link '/aiffel/aiffel/sentiment_classification/data/ratings_train.txt': File exists\r\n"
     ]
    }
   ],
   "source": [
    "! ln -s ~/data/*.txt ~/aiffel/sentiment_classification/data"
   ]
  },
  {
   "cell_type": "code",
   "execution_count": 2,
   "id": "c9cb58de",
   "metadata": {},
   "outputs": [],
   "source": [
    "import os\n",
    "import pandas as pd\n",
    "import numpy as np\n",
    "import matplotlib.pyplot as plt\n",
    "\n",
    "import tensorflow as tf\n",
    "from tensorflow import keras\n",
    "from tensorflow.keras import layers\n",
    "from tensorflow.keras.initializers import Constant\n",
    "\n",
    "import gensim\n",
    "from gensim.models import KeyedVectors\n",
    "from gensim.models.keyedvectors import Word2VecKeyedVectors\n",
    "\n",
    "import konlpy\n",
    "from konlpy.tag import Mecab\n",
    "\n",
    "from collections import Counter\n",
    "\n",
    "import warnings\n",
    "warnings.filterwarnings('ignore')"
   ]
  },
  {
   "cell_type": "markdown",
   "id": "2bafe236",
   "metadata": {},
   "source": [
    "## 1. 데이터 준비와 확인"
   ]
  },
  {
   "cell_type": "code",
   "execution_count": 3,
   "id": "1f29ff61",
   "metadata": {},
   "outputs": [
    {
     "name": "stdout",
     "output_type": "stream",
     "text": [
      "(150000, 3)\n",
      "(50000, 3)\n"
     ]
    },
    {
     "data": {
      "text/html": [
       "<div>\n",
       "<style scoped>\n",
       "    .dataframe tbody tr th:only-of-type {\n",
       "        vertical-align: middle;\n",
       "    }\n",
       "\n",
       "    .dataframe tbody tr th {\n",
       "        vertical-align: top;\n",
       "    }\n",
       "\n",
       "    .dataframe thead th {\n",
       "        text-align: right;\n",
       "    }\n",
       "</style>\n",
       "<table border=\"1\" class=\"dataframe\">\n",
       "  <thead>\n",
       "    <tr style=\"text-align: right;\">\n",
       "      <th></th>\n",
       "      <th>id</th>\n",
       "      <th>document</th>\n",
       "      <th>label</th>\n",
       "    </tr>\n",
       "  </thead>\n",
       "  <tbody>\n",
       "    <tr>\n",
       "      <th>0</th>\n",
       "      <td>9976970</td>\n",
       "      <td>아 더빙.. 진짜 짜증나네요 목소리</td>\n",
       "      <td>0</td>\n",
       "    </tr>\n",
       "    <tr>\n",
       "      <th>1</th>\n",
       "      <td>3819312</td>\n",
       "      <td>흠...포스터보고 초딩영화줄....오버연기조차 가볍지 않구나</td>\n",
       "      <td>1</td>\n",
       "    </tr>\n",
       "    <tr>\n",
       "      <th>2</th>\n",
       "      <td>10265843</td>\n",
       "      <td>너무재밓었다그래서보는것을추천한다</td>\n",
       "      <td>0</td>\n",
       "    </tr>\n",
       "    <tr>\n",
       "      <th>3</th>\n",
       "      <td>9045019</td>\n",
       "      <td>교도소 이야기구먼 ..솔직히 재미는 없다..평점 조정</td>\n",
       "      <td>0</td>\n",
       "    </tr>\n",
       "    <tr>\n",
       "      <th>4</th>\n",
       "      <td>6483659</td>\n",
       "      <td>사이몬페그의 익살스런 연기가 돋보였던 영화!스파이더맨에서 늙어보이기만 했던 커스틴 ...</td>\n",
       "      <td>1</td>\n",
       "    </tr>\n",
       "  </tbody>\n",
       "</table>\n",
       "</div>"
      ],
      "text/plain": [
       "         id                                           document  label\n",
       "0   9976970                                아 더빙.. 진짜 짜증나네요 목소리      0\n",
       "1   3819312                  흠...포스터보고 초딩영화줄....오버연기조차 가볍지 않구나      1\n",
       "2  10265843                                  너무재밓었다그래서보는것을추천한다      0\n",
       "3   9045019                      교도소 이야기구먼 ..솔직히 재미는 없다..평점 조정      0\n",
       "4   6483659  사이몬페그의 익살스런 연기가 돋보였던 영화!스파이더맨에서 늙어보이기만 했던 커스틴 ...      1"
      ]
     },
     "execution_count": 3,
     "metadata": {},
     "output_type": "execute_result"
    }
   ],
   "source": [
    "# 데이터를 읽어봅시다. \n",
    "train_data = pd.read_table('~/aiffel/sentiment_classification/data/ratings_train.txt')\n",
    "test_data = pd.read_table('~/aiffel/sentiment_classification/data/ratings_test.txt')\n",
    "\n",
    "print(train_data.shape)\n",
    "print(test_data.shape)\n",
    "train_data.head()"
   ]
  },
  {
   "cell_type": "markdown",
   "id": "9f33a10a",
   "metadata": {},
   "source": [
    "## 2. 데이터로더 구성"
   ]
  },
  {
   "cell_type": "code",
   "execution_count": 4,
   "id": "6f5e6f12",
   "metadata": {},
   "outputs": [],
   "source": [
    "tokenizer = Mecab()\n",
    "stopwords = ['의','가','이','은','들','는','좀','잘','걍','과','도','를','으로','자','에','와','한','하다']\n",
    "\n",
    "def load_data(train_data, test_data, num_words=10000):\n",
    "    ## 데이터의 중복 제거\n",
    "    train_data.drop_duplicates(subset=['document'], inplace=True)\n",
    "    test_data.drop_duplicates(subset=['document'], inplace=True)\n",
    "    \n",
    "    #$ NaN 결측치 제거\n",
    "    train_data = train_data.dropna(how = 'any') \n",
    "    test_data = test_data.dropna(how = 'any') \n",
    "    \n",
    "    ## 한국어 토크나이저로 토큰화 및 불용어(Stopwords) 제거\n",
    "    x_train = []\n",
    "    for sentence in train_data['document']:\n",
    "        temp_x = tokenizer.morphs(sentence) # 토큰화\n",
    "        temp_x = [word for word in temp_x if not word in stopwords] # 불용어 제거\n",
    "        x_train.append(temp_x)\n",
    "\n",
    "    x_test = []\n",
    "    for sentence in test_data['document']:\n",
    "        temp_x = tokenizer.morphs(sentence) # 토큰화\n",
    "        temp_x = [word for word in temp_x if not word in stopwords] # 불용어 제거\n",
    "        x_test.append(temp_x)\n",
    "    \n",
    "    ## 사전word_to_index 구성\n",
    "    words = np.concatenate(x_train).tolist()\n",
    "    counter = Counter(words)\n",
    "    counter = counter.most_common(10000-4)\n",
    "    vocab = ['<PAD>', '<BOS>', '<UNK>', '<UNUSED>'] + [key for key, _ in counter]\n",
    "    word_to_index = {word:index for index, word in enumerate(vocab)}\n",
    "        \n",
    "    ## 텍스트 스트링을 사전 인덱스 스트링으로 변환\n",
    "    def wordlist_to_indexlist(wordlist):\n",
    "        return [word_to_index[word]\n",
    "            if word in word_to_index else word_to_index['<UNK>'] for word in wordlist]\n",
    "        \n",
    "    x_train = list(map(wordlist_to_indexlist, x_train))\n",
    "    x_test = list(map(wordlist_to_indexlist, x_test))\n",
    "        \n",
    "    ## x_train, y_train, x_test, y_test, word_to_index 리턴\n",
    "    return x_train, np.array(list(train_data['label'])),\\\n",
    "        x_test, np.array(list(test_data['label'])), word_to_index\n",
    "    \n",
    "x_train, y_train, x_test, y_test, word_to_index = load_data(train_data, test_data)"
   ]
  },
  {
   "cell_type": "markdown",
   "id": "c5e812f7",
   "metadata": {},
   "source": [
    "### word_to_index 딕셔너리를 이용하여 index_to_word 딕셔너리를 작성"
   ]
  },
  {
   "cell_type": "code",
   "execution_count": 5,
   "id": "8b95d79b",
   "metadata": {},
   "outputs": [],
   "source": [
    "index_to_word = {index:word for word, index in word_to_index.items()}"
   ]
  },
  {
   "cell_type": "markdown",
   "id": "6e221dac",
   "metadata": {},
   "source": [
    "### Encode, Decode 함수 작성"
   ]
  },
  {
   "cell_type": "code",
   "execution_count": 6,
   "id": "fe0636ed",
   "metadata": {},
   "outputs": [],
   "source": [
    "# 문장 1개를 활용할 딕셔너리와 함께 주면, 단어 인덱스 리스트 벡터로 변환해 주는 함수 \n",
    "# 단, 모든 문장은 <BOS>로 시작하는 것으로 함\n",
    "def get_encoded_sentence(sentence, word_to_index):\n",
    "    return [word_to_index['<BOS>']]+[word_to_index[word]\n",
    "        if word in word_to_index else word_to_index['<UNK>'] for word in sentence.split()]\n",
    "\n",
    "# 여러 개의 문장 리스트를 한꺼번에 단어 인덱스 리스트 벡터로 encode해 주는 함수 \n",
    "def get_encoded_sentences(sentences, word_to_index):\n",
    "    return [get_encoded_sentence(sentence, word_to_index) for sentence in sentences]\n",
    "\n",
    "# 숫자 벡터로 encode된 문장을 원래대로 decode하는 함수 \n",
    "def get_decoded_sentence(encoded_sentence, index_to_word):\n",
    "    return ' '.join(index_to_word[index]\n",
    "        if index in index_to_word else '<UNK>' for index in encoded_sentence[1:])  # [1:]: <BOS> 제외\n",
    "\n",
    "# 여러 개의 숫자 벡터로 encode된 문장을 한꺼번에 원래대로 decode하는 함수 \n",
    "def get_decoded_sentences(encoded_sentences, index_to_word):\n",
    "    return [get_decoded_sentence(encoded_sentence, index_to_word) for encoded_sentence in encoded_sentences]"
   ]
  },
  {
   "cell_type": "markdown",
   "id": "5eaff16d",
   "metadata": {},
   "source": [
    "## 3. 모델 구성을 위한 데이터 분석 및 가공"
   ]
  },
  {
   "cell_type": "markdown",
   "id": "dd5873e9",
   "metadata": {},
   "source": [
    "### 데이터셋 내 문장 길이 분포"
   ]
  },
  {
   "cell_type": "code",
   "execution_count": 7,
   "id": "88ebeb32",
   "metadata": {},
   "outputs": [
    {
     "name": "stdout",
     "output_type": "stream",
     "text": [
      "평균 :  15.96940191154864\n",
      "최대 :  116\n",
      "표준편차 :  12.843571191092\n"
     ]
    }
   ],
   "source": [
    "# 텍스트데이터 문장길이의 리스트를 생성\n",
    "total_data_text = list(x_train) + list(x_test)\n",
    "\n",
    "# 문장길이의 평균값, 최대값, 표준편차를 계산\n",
    "num_tokens = [len(tokens) for tokens in total_data_text]\n",
    "num_tokens = np.array(num_tokens)\n",
    " \n",
    "print('평균 : ', np.mean(num_tokens))\n",
    "print('최대 : ', np.max(num_tokens))\n",
    "print('표준편차 : ', np.std(num_tokens))"
   ]
  },
  {
   "cell_type": "markdown",
   "id": "c300a745",
   "metadata": {},
   "source": [
    "### 적절한 최대 문장 길이 지정"
   ]
  },
  {
   "cell_type": "code",
   "execution_count": 8,
   "id": "bab9219b",
   "metadata": {},
   "outputs": [
    {
     "name": "stdout",
     "output_type": "stream",
     "text": [
      "Adjusted max length :  41\n",
      "전체 문장의 93.43%가 maxlen_adj 설정값 이내에 포함됩니다. \n"
     ]
    }
   ],
   "source": [
    "# 전체 문장수의 90% 정도가 포함 되도록 한 문장당 최대길이를 정함\n",
    "# maxlen_adj = sorted(num_tokens)[int(len(num_tokens) * 0.90)]\n",
    "# print('Adjusted max length : ', maxlen_adj)\n",
    "\n",
    "# 최대 길이를 (평균 + 2*표준편차)로 함  \n",
    "max_tokens = np.mean(num_tokens) + 2 * np.std(num_tokens)\n",
    "maxlen_adj = int(max_tokens)\n",
    "print('Adjusted max length : ', maxlen_adj)\n",
    "print('전체 문장의 {}%가 maxlen_adj 설정값 이내에 포함됩니다. '.format\n",
    "      (round(np.sum(num_tokens < max_tokens) / len(num_tokens) * 100, 2)))"
   ]
  },
  {
   "cell_type": "markdown",
   "id": "e2af36cb",
   "metadata": {},
   "source": [
    "### keras.preprocessing.sequence.pad_sequences 을 활용한 패딩 추가"
   ]
  },
  {
   "cell_type": "code",
   "execution_count": 9,
   "id": "413f9255",
   "metadata": {},
   "outputs": [
    {
     "name": "stdout",
     "output_type": "stream",
     "text": [
      "146182\n",
      "49157\n"
     ]
    }
   ],
   "source": [
    "x_train = keras.preprocessing.sequence.pad_sequences(x_train,\n",
    "                                                    value=word_to_index[\"<PAD>\"],\n",
    "                                                    padding='pre',  # pre가 post보다 유리\n",
    "                                                    maxlen=maxlen_adj)\n",
    "\n",
    "x_test = keras.preprocessing.sequence.pad_sequences(x_test,\n",
    "                                                    value=word_to_index[\"<PAD>\"],\n",
    "                                                    padding='pre',\n",
    "                                                    maxlen=maxlen_adj)\n",
    "\n",
    "print(len(x_train))\n",
    "print(len(x_test))"
   ]
  },
  {
   "cell_type": "code",
   "execution_count": 10,
   "id": "65e4b8f6",
   "metadata": {},
   "outputs": [
    {
     "name": "stdout",
     "output_type": "stream",
     "text": [
      "평균 :  41.0\n",
      "최대 :  41\n",
      "표준편차 :  0.0\n"
     ]
    }
   ],
   "source": [
    "# 패딩처리가 제대로 되었는지 확인\n",
    "total_data_text2 = list(x_train) + list(x_test)\n",
    "num_tokens2 = [len(tokens) for tokens in total_data_text2]\n",
    "num_tokens2 = np.array(num_tokens2)\n",
    "\n",
    "print('평균 : ', np.mean(num_tokens2))\n",
    "print('최대 : ', np.max(num_tokens2))\n",
    "print('표준편차 : ', np.std(num_tokens2))"
   ]
  },
  {
   "cell_type": "markdown",
   "id": "c361385f",
   "metadata": {},
   "source": [
    "## 4. 모델 구성 및 validation set 구성"
   ]
  },
  {
   "cell_type": "markdown",
   "id": "f53d1cc2",
   "metadata": {},
   "source": [
    "### 4-0. Data를 train용과 validation용으로 분리"
   ]
  },
  {
   "cell_type": "code",
   "execution_count": 11,
   "id": "8fb7d7d9",
   "metadata": {},
   "outputs": [
    {
     "name": "stdout",
     "output_type": "stream",
     "text": [
      "30000 30000\n",
      "116182 116182\n"
     ]
    }
   ],
   "source": [
    "# 146182건 중 validation set 30000건 분리\n",
    "x_val = x_train[:30000]   \n",
    "y_val = y_train[:30000]\n",
    "\n",
    "# validation set을 제외한 나머지\n",
    "partial_x_train = x_train[30000:]  \n",
    "partial_y_train = y_train[30000:]\n",
    "\n",
    "print(len(x_val), len(y_val))\n",
    "print(len(partial_y_train), len(partial_y_train)) "
   ]
  },
  {
   "cell_type": "markdown",
   "id": "3d34c371",
   "metadata": {},
   "source": [
    "### 4-1. RNN 모델"
   ]
  },
  {
   "cell_type": "code",
   "execution_count": 12,
   "id": "6ba418d1",
   "metadata": {},
   "outputs": [
    {
     "name": "stdout",
     "output_type": "stream",
     "text": [
      "Model: \"sequential\"\n",
      "_________________________________________________________________\n",
      "Layer (type)                 Output Shape              Param #   \n",
      "=================================================================\n",
      "embedding (Embedding)        (None, None, 300)         3000000   \n",
      "_________________________________________________________________\n",
      "lstm (LSTM)                  (None, 8)                 9888      \n",
      "_________________________________________________________________\n",
      "dense (Dense)                (None, 8)                 72        \n",
      "_________________________________________________________________\n",
      "dense_1 (Dense)              (None, 1)                 9         \n",
      "=================================================================\n",
      "Total params: 3,009,969\n",
      "Trainable params: 3,009,969\n",
      "Non-trainable params: 0\n",
      "_________________________________________________________________\n"
     ]
    }
   ],
   "source": [
    "## Model 작성\n",
    "\n",
    "vocab_size = 10000     # 어휘 사전의 크기 (10,000개의 단어)\n",
    "word_vector_dim = 300  # 워드 벡터의 차원 수 (변경 가능한 하이퍼파라미터)\n",
    "\n",
    "RNN_model = tf.keras.Sequential()\n",
    "RNN_model.add(tf.keras.layers.Embedding(vocab_size, word_vector_dim, input_shape=(None,)))\n",
    "RNN_model.add(tf.keras.layers.LSTM(8))  # 가장 널리 쓰이는 RNN인 LSTM 레이어를 사용\n",
    "                                        # LSTM state 벡터의 차원수는 8 (변경 가능)\n",
    "RNN_model.add(tf.keras.layers.Dense(8, activation='relu'))\n",
    "RNN_model.add(tf.keras.layers.Dense(1, activation='sigmoid'))\n",
    "RNN_model.summary()"
   ]
  },
  {
   "cell_type": "markdown",
   "id": "93ebedec",
   "metadata": {},
   "source": [
    "### 4-2. 1D CNN 모델"
   ]
  },
  {
   "cell_type": "code",
   "execution_count": 13,
   "id": "47b02260",
   "metadata": {},
   "outputs": [
    {
     "name": "stdout",
     "output_type": "stream",
     "text": [
      "Model: \"sequential_1\"\n",
      "_________________________________________________________________\n",
      "Layer (type)                 Output Shape              Param #   \n",
      "=================================================================\n",
      "embedding_1 (Embedding)      (None, None, 300)         3000000   \n",
      "_________________________________________________________________\n",
      "conv1d (Conv1D)              (None, None, 16)          33616     \n",
      "_________________________________________________________________\n",
      "max_pooling1d (MaxPooling1D) (None, None, 16)          0         \n",
      "_________________________________________________________________\n",
      "conv1d_1 (Conv1D)            (None, None, 16)          1808      \n",
      "_________________________________________________________________\n",
      "global_max_pooling1d (Global (None, 16)                0         \n",
      "_________________________________________________________________\n",
      "dense_2 (Dense)              (None, 8)                 136       \n",
      "_________________________________________________________________\n",
      "dense_3 (Dense)              (None, 1)                 9         \n",
      "=================================================================\n",
      "Total params: 3,035,569\n",
      "Trainable params: 3,035,569\n",
      "Non-trainable params: 0\n",
      "_________________________________________________________________\n"
     ]
    }
   ],
   "source": [
    "## Model 작성\n",
    "\n",
    "vocab_size = 10000     # 어휘사전의 크기(10,000개의 단어)\n",
    "word_vector_dim = 300  # 워드벡터의 차원수 (변경가능한 하이퍼파라미터)\n",
    "\n",
    "CNN1D_model = tf.keras.Sequential()\n",
    "CNN1D_model.add(tf.keras.layers.Embedding(vocab_size, word_vector_dim, input_shape=(None,)))\n",
    "CNN1D_model.add(tf.keras.layers.Conv1D(16, 7, activation='relu'))\n",
    "CNN1D_model.add(tf.keras.layers.MaxPooling1D(5))\n",
    "CNN1D_model.add(tf.keras.layers.Conv1D(16, 7, activation='relu'))\n",
    "CNN1D_model.add(tf.keras.layers.GlobalMaxPooling1D())\n",
    "CNN1D_model.add(tf.keras.layers.Dense(8, activation='relu'))\n",
    "CNN1D_model.add(tf.keras.layers.Dense(1, activation='sigmoid'))  # 최종 출력은 1dim\n",
    "\n",
    "CNN1D_model.summary()"
   ]
  },
  {
   "cell_type": "markdown",
   "id": "d6a891f0",
   "metadata": {},
   "source": [
    "### 4-3. Transformer 모델"
   ]
  },
  {
   "cell_type": "code",
   "execution_count": 14,
   "id": "27d3838e",
   "metadata": {},
   "outputs": [],
   "source": [
    "## Transformer 블록을 레이어로 구현\n",
    "\n",
    "class TransformerBlock(layers.Layer):\n",
    "    def __init__(self, embed_dim, num_heads, ff_dim, rate=0.1):\n",
    "        super(TransformerBlock, self).__init__()\n",
    "        self.att = layers.MultiHeadAttention(num_heads=num_heads, key_dim=embed_dim)\n",
    "        self.ffn = keras.Sequential(\n",
    "            [\n",
    "                layers.Dense(ff_dim, activation=\"relu\"),\n",
    "                layers.Dense(embed_dim),\n",
    "            ]\n",
    "        )\n",
    "        self.layernorm1 = layers.LayerNormalization(epsilon=1e-6)\n",
    "        self.layernorm2 = layers.LayerNormalization(epsilon=1e-6)\n",
    "        self.dropout1 = layers.Dropout(rate)\n",
    "        self.dropout2 = layers.Dropout(rate)\n",
    "\n",
    "    def call(self, inputs, training):\n",
    "        attn_output = self.att(inputs, inputs)\n",
    "        attn_output = self.dropout1(attn_output, training=training)\n",
    "        out1 = self.layernorm1(inputs + attn_output)\n",
    "        ffn_output = self.ffn(out1)\n",
    "        ffn_output = self.dropout2(ffn_output, training=training)\n",
    "        return self.layernorm2(out1 + ffn_output)"
   ]
  },
  {
   "cell_type": "code",
   "execution_count": 15,
   "id": "17e39dd5",
   "metadata": {},
   "outputs": [],
   "source": [
    "## Embedding layer 구현\n",
    "\n",
    "class TokenAndPositionEmbedding(layers.Layer):\n",
    "    def __init__(self, maxlen, vocab_size, embed_dim):\n",
    "        super(TokenAndPositionEmbedding, self).__init__()\n",
    "        self.token_emb = layers.Embedding(input_dim=vocab_size, output_dim=embed_dim)\n",
    "        self.pos_emb = layers.Embedding(input_dim=maxlen, output_dim=embed_dim)\n",
    "\n",
    "    def call(self, x):\n",
    "        maxlen = tf.shape(x)[-1]\n",
    "        positions = tf.range(start=0, limit=maxlen, delta=1)\n",
    "        positions = self.pos_emb(positions)\n",
    "        x = self.token_emb(x)\n",
    "        return x + positions"
   ]
  },
  {
   "cell_type": "code",
   "execution_count": 16,
   "id": "adfdb0f8",
   "metadata": {},
   "outputs": [],
   "source": [
    "## Model 작성\n",
    "\n",
    "vocab_size = 10000  # 어휘사전의 크기(10,000개의 단어)\n",
    "embed_dim = 128     # 각 토큰의 Embedding size\n",
    "num_heads = 16      # 병렬로 어텐션 수행, 이때 병렬의 수\n",
    "ff_dim = 64         # Transformer 내부에 존재하는 Feed Forward Network의 hidden layer size\n",
    "\n",
    "inputs = layers.Input(shape=(maxlen_adj,))\n",
    "embedding_layer = TokenAndPositionEmbedding(maxlen_adj, vocab_size, embed_dim)\n",
    "x = embedding_layer(inputs)\n",
    "transformer_block = TransformerBlock(embed_dim, num_heads, ff_dim)\n",
    "x = transformer_block(x)\n",
    "x = layers.GlobalAveragePooling1D()(x)\n",
    "# x = layers.Dropout(0.1)(x)\n",
    "x = layers.Dense(20, activation=\"relu\")(x)\n",
    "# x = layers.Dropout(0.1)(x)\n",
    "outputs = layers.Dense(2, activation=\"softmax\")(x)\n",
    "\n",
    "TRF_model = keras.Model(inputs=inputs, outputs=outputs)"
   ]
  },
  {
   "cell_type": "markdown",
   "id": "76141c56",
   "metadata": {},
   "source": [
    "## 5. 모델 훈련 개시"
   ]
  },
  {
   "cell_type": "markdown",
   "id": "1102c03d",
   "metadata": {},
   "source": [
    "### 5-1 RNN 모델 훈련"
   ]
  },
  {
   "cell_type": "code",
   "execution_count": 17,
   "id": "fca56d3e",
   "metadata": {},
   "outputs": [
    {
     "name": "stdout",
     "output_type": "stream",
     "text": [
      "Epoch 1/10\n",
      "227/227 [==============================] - 5s 9ms/step - loss: 0.4389 - accuracy: 0.8116 - val_loss: 0.3531 - val_accuracy: 0.8472\n",
      "Epoch 2/10\n",
      "227/227 [==============================] - 2s 8ms/step - loss: 0.3207 - accuracy: 0.8651 - val_loss: 0.3355 - val_accuracy: 0.8544\n",
      "Epoch 3/10\n",
      "227/227 [==============================] - 2s 8ms/step - loss: 0.2849 - accuracy: 0.8807 - val_loss: 0.3320 - val_accuracy: 0.8551\n",
      "Epoch 4/10\n",
      "227/227 [==============================] - 2s 7ms/step - loss: 0.2569 - accuracy: 0.8925 - val_loss: 0.3458 - val_accuracy: 0.8537\n",
      "Epoch 5/10\n",
      "227/227 [==============================] - 2s 7ms/step - loss: 0.2310 - accuracy: 0.9043 - val_loss: 0.3525 - val_accuracy: 0.8562\n",
      "Epoch 6/10\n",
      "227/227 [==============================] - 2s 8ms/step - loss: 0.2085 - accuracy: 0.9150 - val_loss: 0.3755 - val_accuracy: 0.8510\n",
      "Epoch 7/10\n",
      "227/227 [==============================] - 2s 7ms/step - loss: 0.1901 - accuracy: 0.9239 - val_loss: 0.3948 - val_accuracy: 0.8534\n",
      "Epoch 8/10\n",
      "227/227 [==============================] - 2s 8ms/step - loss: 0.1744 - accuracy: 0.9315 - val_loss: 0.4144 - val_accuracy: 0.8507\n",
      "Epoch 9/10\n",
      "227/227 [==============================] - 2s 8ms/step - loss: 0.1602 - accuracy: 0.9383 - val_loss: 0.4406 - val_accuracy: 0.8482\n",
      "Epoch 10/10\n",
      "227/227 [==============================] - 2s 8ms/step - loss: 0.1466 - accuracy: 0.9445 - val_loss: 0.4543 - val_accuracy: 0.8457\n"
     ]
    }
   ],
   "source": [
    "## Model 학습\n",
    "\n",
    "RNN_model.compile(optimizer='adam',\n",
    "                  loss='binary_crossentropy',\n",
    "                  metrics=['accuracy'])\n",
    "              \n",
    "epochs = 10  # 몇 epoch를 훈련하면 좋을지 결과를 보면서 바꾸어 볼것 \n",
    "RNN_history = RNN_model.fit(partial_x_train,\n",
    "                            partial_y_train,\n",
    "                            epochs=epochs,\n",
    "                            batch_size=512,\n",
    "                            validation_data=(x_val, y_val),\n",
    "                            verbose=1)"
   ]
  },
  {
   "cell_type": "code",
   "execution_count": 18,
   "id": "5c8c1c8d",
   "metadata": {},
   "outputs": [
    {
     "name": "stdout",
     "output_type": "stream",
     "text": [
      "1537/1537 - 3s - loss: 0.4616 - accuracy: 0.8420\n",
      "[0.4616437554359436, 0.8419756889343262]\n"
     ]
    }
   ],
   "source": [
    "## 학습이 끝난 모델을 테스트셋으로 평가\n",
    "\n",
    "results = RNN_model.evaluate(x_test,  y_test, verbose=2)\n",
    "print(results) "
   ]
  },
  {
   "cell_type": "markdown",
   "id": "b6797876",
   "metadata": {},
   "source": [
    "### 5-2. 1D CNN 모델 훈련"
   ]
  },
  {
   "cell_type": "code",
   "execution_count": 19,
   "id": "87276c6f",
   "metadata": {},
   "outputs": [
    {
     "name": "stdout",
     "output_type": "stream",
     "text": [
      "Epoch 1/10\n",
      "227/227 [==============================] - 4s 10ms/step - loss: 0.4454 - accuracy: 0.7862 - val_loss: 0.3392 - val_accuracy: 0.8528\n",
      "Epoch 2/10\n",
      "227/227 [==============================] - 2s 8ms/step - loss: 0.2928 - accuracy: 0.8781 - val_loss: 0.3256 - val_accuracy: 0.8603\n",
      "Epoch 3/10\n",
      "227/227 [==============================] - 2s 8ms/step - loss: 0.2180 - accuracy: 0.9146 - val_loss: 0.3571 - val_accuracy: 0.8537\n",
      "Epoch 4/10\n",
      "227/227 [==============================] - 2s 8ms/step - loss: 0.1405 - accuracy: 0.9492 - val_loss: 0.4185 - val_accuracy: 0.8486\n",
      "Epoch 5/10\n",
      "227/227 [==============================] - 2s 8ms/step - loss: 0.0853 - accuracy: 0.9716 - val_loss: 0.4952 - val_accuracy: 0.8488\n",
      "Epoch 6/10\n",
      "227/227 [==============================] - 2s 8ms/step - loss: 0.0547 - accuracy: 0.9822 - val_loss: 0.5860 - val_accuracy: 0.8411\n",
      "Epoch 7/10\n",
      "227/227 [==============================] - 2s 8ms/step - loss: 0.0371 - accuracy: 0.9882 - val_loss: 0.6757 - val_accuracy: 0.8407\n",
      "Epoch 8/10\n",
      "227/227 [==============================] - 2s 8ms/step - loss: 0.0273 - accuracy: 0.9913 - val_loss: 0.7546 - val_accuracy: 0.8391\n",
      "Epoch 9/10\n",
      "227/227 [==============================] - 2s 8ms/step - loss: 0.0230 - accuracy: 0.9923 - val_loss: 0.8338 - val_accuracy: 0.8350\n",
      "Epoch 10/10\n",
      "227/227 [==============================] - 2s 8ms/step - loss: 0.0208 - accuracy: 0.9929 - val_loss: 0.8966 - val_accuracy: 0.8380\n"
     ]
    }
   ],
   "source": [
    "## Model 학습\n",
    "\n",
    "CNN1D_model.compile(optimizer='adam',\n",
    "                    loss='binary_crossentropy',\n",
    "                    metrics=['accuracy'])\n",
    "\n",
    "epochs = 10  # 몇 epoch를 훈련하면 좋을지 결과를 보면서 바꾸어 볼것 \n",
    "CNN1D_history = CNN1D_model.fit(partial_x_train,\n",
    "                                partial_y_train,\n",
    "                                epochs=epochs,\n",
    "                                batch_size=512,\n",
    "                                validation_data=(x_val, y_val),\n",
    "                                verbose=1)"
   ]
  },
  {
   "cell_type": "code",
   "execution_count": 20,
   "id": "ce9fb36b",
   "metadata": {},
   "outputs": [
    {
     "name": "stdout",
     "output_type": "stream",
     "text": [
      "1537/1537 - 3s - loss: 0.9193 - accuracy: 0.8339\n",
      "[0.919287383556366, 0.833919882774353]\n"
     ]
    }
   ],
   "source": [
    "## 학습이 끝난 모델을 테스트셋으로 평가\n",
    "\n",
    "results = CNN1D_model.evaluate(x_test,  y_test, verbose=2)\n",
    "print(results) "
   ]
  },
  {
   "cell_type": "markdown",
   "id": "af3df42d",
   "metadata": {},
   "source": [
    "### 5-3. Transformer 모델 훈련"
   ]
  },
  {
   "cell_type": "code",
   "execution_count": 21,
   "id": "8cda786e",
   "metadata": {},
   "outputs": [
    {
     "name": "stdout",
     "output_type": "stream",
     "text": [
      "Epoch 1/10\n",
      "227/227 [==============================] - 26s 109ms/step - loss: 0.4843 - accuracy: 0.7329 - val_loss: 0.3503 - val_accuracy: 0.8456\n",
      "Epoch 2/10\n",
      "227/227 [==============================] - 26s 113ms/step - loss: 0.3302 - accuracy: 0.8563 - val_loss: 0.3442 - val_accuracy: 0.8478\n",
      "Epoch 3/10\n",
      "227/227 [==============================] - 26s 113ms/step - loss: 0.3023 - accuracy: 0.8669 - val_loss: 0.3504 - val_accuracy: 0.8466\n",
      "Epoch 4/10\n",
      "227/227 [==============================] - 25s 111ms/step - loss: 0.2843 - accuracy: 0.8739 - val_loss: 0.3744 - val_accuracy: 0.8473\n",
      "Epoch 5/10\n",
      "227/227 [==============================] - 25s 112ms/step - loss: 0.2691 - accuracy: 0.8773 - val_loss: 0.3950 - val_accuracy: 0.8471\n",
      "Epoch 6/10\n",
      "227/227 [==============================] - 25s 112ms/step - loss: 0.2593 - accuracy: 0.8800 - val_loss: 0.4553 - val_accuracy: 0.8440\n",
      "Epoch 7/10\n",
      "227/227 [==============================] - 25s 111ms/step - loss: 0.2461 - accuracy: 0.8846 - val_loss: 0.4402 - val_accuracy: 0.8418\n",
      "Epoch 8/10\n",
      "227/227 [==============================] - 25s 112ms/step - loss: 0.2382 - accuracy: 0.8891 - val_loss: 0.4839 - val_accuracy: 0.8397\n",
      "Epoch 9/10\n",
      "227/227 [==============================] - 25s 112ms/step - loss: 0.2263 - accuracy: 0.8946 - val_loss: 0.5036 - val_accuracy: 0.8401\n",
      "Epoch 10/10\n",
      "227/227 [==============================] - 25s 112ms/step - loss: 0.2156 - accuracy: 0.9007 - val_loss: 0.4961 - val_accuracy: 0.8381\n"
     ]
    }
   ],
   "source": [
    "## Model 훈련\n",
    "\n",
    "TRF_model.compile(optimizer=\"adam\",\n",
    "                  loss=\"sparse_categorical_crossentropy\",\n",
    "                  metrics=[\"accuracy\"])\n",
    "\n",
    "epochs = 10  # 몇 epoch를 훈련하면 좋을지 결과를 보면서 바꾸어 볼것 \n",
    "TRF_history = TRF_model.fit(partial_x_train,\n",
    "                            partial_y_train,\n",
    "                            epochs=epochs,\n",
    "                            batch_size=512,\n",
    "                            validation_data=(x_val, y_val),\n",
    "                            verbose=1)"
   ]
  },
  {
   "cell_type": "code",
   "execution_count": 22,
   "id": "2ec73a6e",
   "metadata": {},
   "outputs": [
    {
     "name": "stdout",
     "output_type": "stream",
     "text": [
      "1537/1537 - 6s - loss: 0.4941 - accuracy: 0.8329\n",
      "[0.4940645694732666, 0.832902729511261]\n"
     ]
    }
   ],
   "source": [
    "## 학습이 끝난 모델을 테스트셋으로 평가\n",
    "\n",
    "results = TRF_model.evaluate(x_test,  y_test, verbose=2)\n",
    "print(results)"
   ]
  },
  {
   "cell_type": "markdown",
   "id": "b65de519",
   "metadata": {},
   "source": [
    "## 6. Loss, Accuracy 그래프 시각화"
   ]
  },
  {
   "cell_type": "markdown",
   "id": "d7193de6",
   "metadata": {},
   "source": [
    "### 6-1. RNN 모델 그래프 시각화"
   ]
  },
  {
   "cell_type": "code",
   "execution_count": 23,
   "id": "cacbae7b",
   "metadata": {},
   "outputs": [
    {
     "name": "stdout",
     "output_type": "stream",
     "text": [
      "dict_keys(['loss', 'accuracy', 'val_loss', 'val_accuracy'])\n"
     ]
    }
   ],
   "source": [
    "RNN_history_dict = RNN_history.history\n",
    "print(RNN_history_dict.keys())"
   ]
  },
  {
   "cell_type": "code",
   "execution_count": 24,
   "id": "8daf6e50",
   "metadata": {},
   "outputs": [
    {
     "data": {
      "image/png": "[encoded data removed]",
      "text/plain": [
       "<Figure size 432x288 with 1 Axes>"
      ]
     },
     "metadata": {
      "needs_background": "light"
     },
     "output_type": "display_data"
    }
   ],
   "source": [
    "acc = RNN_history_dict['accuracy']\n",
    "val_acc = RNN_history_dict['val_accuracy']\n",
    "loss = RNN_history_dict['loss']\n",
    "val_loss = RNN_history_dict['val_loss']\n",
    "\n",
    "epochs = range(1, len(acc) + 1)\n",
    "\n",
    "# bo는 파란색 점\n",
    "plt.plot(epochs, loss, 'bo', label='Training loss')\n",
    "# b는 파란색 실선\n",
    "plt.plot(epochs, val_loss, 'b', label='Validation loss')\n",
    "plt.title('Training and validation loss')\n",
    "plt.xlabel('Epochs')\n",
    "plt.ylabel('Loss')\n",
    "plt.legend()\n",
    "\n",
    "plt.show()"
   ]
  },
  {
   "cell_type": "code",
   "execution_count": 25,
   "id": "19ed6580",
   "metadata": {},
   "outputs": [
    {
     "data": {
      "image/png": "[encoded data removed]",
      "text/plain": [
       "<Figure size 432x288 with 1 Axes>"
      ]
     },
     "metadata": {
      "needs_background": "light"
     },
     "output_type": "display_data"
    }
   ],
   "source": [
    "plt.clf()   # 그림을 초기화합니다\n",
    "\n",
    "plt.plot(epochs, acc, 'bo', label='Training acc')\n",
    "plt.plot(epochs, val_acc, 'b', label='Validation acc')\n",
    "plt.title('Training and validation accuracy')\n",
    "plt.xlabel('Epochs')\n",
    "plt.ylabel('Accuracy')\n",
    "plt.legend()\n",
    "\n",
    "plt.show()"
   ]
  },
  {
   "cell_type": "markdown",
   "id": "e86cda63",
   "metadata": {},
   "source": [
    "### 6-2. 1D CNN 모델 그래프 시각화"
   ]
  },
  {
   "cell_type": "code",
   "execution_count": 26,
   "id": "9973771f",
   "metadata": {},
   "outputs": [
    {
     "name": "stdout",
     "output_type": "stream",
     "text": [
      "dict_keys(['loss', 'accuracy', 'val_loss', 'val_accuracy'])\n"
     ]
    }
   ],
   "source": [
    "CNN1D_history_dict = CNN1D_history.history\n",
    "print(CNN1D_history_dict.keys())"
   ]
  },
  {
   "cell_type": "code",
   "execution_count": 27,
   "id": "5f415ccc",
   "metadata": {},
   "outputs": [
    {
     "data": {
      "image/png": "[encoded data removed]",
      "text/plain": [
       "<Figure size 432x288 with 1 Axes>"
      ]
     },
     "metadata": {
      "needs_background": "light"
     },
     "output_type": "display_data"
    }
   ],
   "source": [
    "acc = CNN1D_history_dict['accuracy']\n",
    "val_acc = CNN1D_history_dict['val_accuracy']\n",
    "loss = CNN1D_history_dict['loss']\n",
    "val_loss = CNN1D_history_dict['val_loss']\n",
    "\n",
    "epochs = range(1, len(acc) + 1)\n",
    "\n",
    "# bo는 파란색 점\n",
    "plt.plot(epochs, loss, 'bo', label='Training loss')\n",
    "# b는 파란색 실선\n",
    "plt.plot(epochs, val_loss, 'b', label='Validation loss')\n",
    "plt.title('Training and validation loss')\n",
    "plt.xlabel('Epochs')\n",
    "plt.ylabel('Loss')\n",
    "plt.legend()\n",
    "\n",
    "plt.show()"
   ]
  },
  {
   "cell_type": "code",
   "execution_count": 28,
   "id": "fae6ee5c",
   "metadata": {},
   "outputs": [
    {
     "data": {
      "image/png": "[encoded data removed]",
      "text/plain": [
       "<Figure size 432x288 with 1 Axes>"
      ]
     },
     "metadata": {
      "needs_background": "light"
     },
     "output_type": "display_data"
    }
   ],
   "source": [
    "plt.clf()   # 그림을 초기화합니다\n",
    "\n",
    "plt.plot(epochs, acc, 'bo', label='Training acc')\n",
    "plt.plot(epochs, val_acc, 'b', label='Validation acc')\n",
    "plt.title('Training and validation accuracy')\n",
    "plt.xlabel('Epochs')\n",
    "plt.ylabel('Accuracy')\n",
    "plt.legend()\n",
    "\n",
    "plt.show()"
   ]
  },
  {
   "cell_type": "markdown",
   "id": "ba594c86",
   "metadata": {},
   "source": [
    "### 6-3. Transformer 모델 그래프 시각화"
   ]
  },
  {
   "cell_type": "code",
   "execution_count": 29,
   "id": "057dea7c",
   "metadata": {},
   "outputs": [
    {
     "name": "stdout",
     "output_type": "stream",
     "text": [
      "dict_keys(['loss', 'accuracy', 'val_loss', 'val_accuracy'])\n"
     ]
    }
   ],
   "source": [
    "TRF_history_dict = TRF_history.history\n",
    "print(TRF_history_dict.keys())"
   ]
  },
  {
   "cell_type": "code",
   "execution_count": 30,
   "id": "f57fddeb",
   "metadata": {},
   "outputs": [
    {
     "data": {
      "image/png": "[encoded data removed]",
      "text/plain": [
       "<Figure size 432x288 with 1 Axes>"
      ]
     },
     "metadata": {
      "needs_background": "light"
     },
     "output_type": "display_data"
    }
   ],
   "source": [
    "acc = TRF_history_dict['accuracy']\n",
    "val_acc = TRF_history_dict['val_accuracy']\n",
    "loss = TRF_history_dict['loss']\n",
    "val_loss = TRF_history_dict['val_loss']\n",
    "\n",
    "epochs = range(1, len(acc) + 1)\n",
    "\n",
    "# bo는 파란색 점\n",
    "plt.plot(epochs, loss, 'bo', label='Training loss')\n",
    "# b는 파란색 실선\n",
    "plt.plot(epochs, val_loss, 'b', label='Validation loss')\n",
    "plt.title('Training and validation loss')\n",
    "plt.xlabel('Epochs')\n",
    "plt.ylabel('Loss')\n",
    "plt.legend()\n",
    "\n",
    "plt.show()"
   ]
  },
  {
   "cell_type": "code",
   "execution_count": 31,
   "id": "8066a7d6",
   "metadata": {},
   "outputs": [
    {
     "data": {
      "image/png": "[encoded data removed]",
      "text/plain": [
       "<Figure size 432x288 with 1 Axes>"
      ]
     },
     "metadata": {
      "needs_background": "light"
     },
     "output_type": "display_data"
    }
   ],
   "source": [
    "plt.clf()  # 그림을 초기화\n",
    "\n",
    "plt.plot(epochs, acc, 'bo', label='Training acc')\n",
    "plt.plot(epochs, val_acc, 'b', label='Validation acc')\n",
    "plt.title('Training and validation accuracy')\n",
    "plt.xlabel('Epochs')\n",
    "plt.ylabel('Accuracy')\n",
    "plt.legend()\n",
    "\n",
    "plt.show()"
   ]
  },
  {
   "cell_type": "markdown",
   "id": "9aea6792",
   "metadata": {},
   "source": [
    "## 7. 학습된 Embedding 레이어 분석"
   ]
  },
  {
   "cell_type": "markdown",
   "id": "b1fe1ebd",
   "metadata": {},
   "source": [
    "### 7-1. 자체학습 임베딩"
   ]
  },
  {
   "cell_type": "code",
   "execution_count": 32,
   "id": "c7902ba7",
   "metadata": {},
   "outputs": [],
   "source": [
    "# 학습한 Embedding 파라미터를 저장한 폴더 \n",
    "word2vec_file_path = os.getenv('HOME')+'/aiffel/sentiment_classification/data/'"
   ]
  },
  {
   "cell_type": "markdown",
   "id": "35f5025e",
   "metadata": {},
   "source": [
    "#### 7-1-1. RNN Model"
   ]
  },
  {
   "cell_type": "code",
   "execution_count": 33,
   "id": "a5f659d9",
   "metadata": {},
   "outputs": [
    {
     "name": "stdout",
     "output_type": "stream",
     "text": [
      "(10000, 300)\n"
     ]
    }
   ],
   "source": [
    "embedding_layer = RNN_model.layers[0]\n",
    "weights = embedding_layer.get_weights()[0]\n",
    "print(weights.shape)"
   ]
  },
  {
   "cell_type": "code",
   "execution_count": 34,
   "id": "aef4479c",
   "metadata": {},
   "outputs": [],
   "source": [
    "word_vector_dim = 300\n",
    "# 학습한 Embedding 파라미터를 파일에 써서 저장합니다. \n",
    "f = open(word2vec_file_path+'RNN_word2vec.txt', 'w')\n",
    "# 몇개의 벡터를 얼마 사이즈로 기재할지 타이틀을 씁니다.\n",
    "f.write('{} {}\\n'.format(vocab_size-4, word_vector_dim))\n",
    "\n",
    "# 단어 개수(에서 특수문자 4개는 제외하고)만큼의 워드 벡터를 파일에 기록합니다. \n",
    "vectors = RNN_model.get_weights()[0]\n",
    "for i in range(4,vocab_size):\n",
    "    f.write('{} {}\\n'.format(index_to_word[i], ' '.join(map(str, list(vectors[i, :])))))\n",
    "f.close()"
   ]
  },
  {
   "cell_type": "code",
   "execution_count": 35,
   "id": "f0665ab9",
   "metadata": {},
   "outputs": [
    {
     "data": {
      "text/plain": [
       "[('삶', 0.8464392423629761),\n",
       " ('즐거웠', 0.8329818248748779),\n",
       " ('완벽', 0.830302357673645),\n",
       " ('깊', 0.8210005760192871),\n",
       " ('DVD', 0.8138769268989563),\n",
       " ('한석규', 0.8111339211463928),\n",
       " ('바가지', 0.8079726099967957),\n",
       " ('통쾌', 0.8073918223381042),\n",
       " ('만점', 0.80498868227005),\n",
       " ('ㅠㅠㅠㅠㅠ', 0.7985312342643738)]"
      ]
     },
     "execution_count": 35,
     "metadata": {},
     "output_type": "execute_result"
    }
   ],
   "source": [
    "vectors = Word2VecKeyedVectors.load_word2vec_format(word2vec_file_path+'RNN_word2vec.txt', binary=False)\n",
    "vectors.similar_by_word(\"사랑\")"
   ]
  },
  {
   "cell_type": "markdown",
   "id": "453c4d28",
   "metadata": {},
   "source": [
    "#### 7-1-2. 1D CNN Model"
   ]
  },
  {
   "cell_type": "code",
   "execution_count": 36,
   "id": "2c06775d",
   "metadata": {},
   "outputs": [
    {
     "name": "stdout",
     "output_type": "stream",
     "text": [
      "(10000, 300)\n"
     ]
    }
   ],
   "source": [
    "embedding_layer = CNN1D_model.layers[0]\n",
    "weights = embedding_layer.get_weights()[0]\n",
    "print(weights.shape)"
   ]
  },
  {
   "cell_type": "code",
   "execution_count": 37,
   "id": "85653bf7",
   "metadata": {},
   "outputs": [],
   "source": [
    "word_vector_dim = 300\n",
    "# 학습한 Embedding 파라미터를 파일에 써서 저장합니다. \n",
    "f = open(word2vec_file_path+'CNN1D_word2vec.txt', 'w')\n",
    "# 몇개의 벡터를 얼마 사이즈로 기재할지 타이틀을 씁니다.\n",
    "f.write('{} {}\\n'.format(vocab_size-4, word_vector_dim))\n",
    "\n",
    "# 단어 개수(에서 특수문자 4개는 제외하고)만큼의 워드 벡터를 파일에 기록합니다. \n",
    "vectors = CNN1D_model.get_weights()[0]\n",
    "for i in range(4,vocab_size):\n",
    "    f.write('{} {}\\n'.format(index_to_word[i], ' '.join(map(str, list(vectors[i, :])))))\n",
    "f.close()"
   ]
  },
  {
   "cell_type": "code",
   "execution_count": 38,
   "id": "59535c32",
   "metadata": {},
   "outputs": [
    {
     "data": {
      "text/plain": [
       "[('디테일', 0.5568735003471375),\n",
       " ('자무시', 0.5524102449417114),\n",
       " ('맴도', 0.5510973930358887),\n",
       " ('완소', 0.5465418696403503),\n",
       " ('슬퍼요', 0.5458773970603943),\n",
       " ('1997', 0.5424361228942871),\n",
       " ('먹먹', 0.5400255918502808),\n",
       " ('주옥같', 0.5347081422805786),\n",
       " ('따스', 0.5312296748161316),\n",
       " ('이제서야', 0.5302199721336365)]"
      ]
     },
     "execution_count": 38,
     "metadata": {},
     "output_type": "execute_result"
    }
   ],
   "source": [
    "vectors = Word2VecKeyedVectors.load_word2vec_format(word2vec_file_path+'CNN1D_word2vec.txt', binary=False)\n",
    "vectors.similar_by_word(\"사랑\")"
   ]
  },
  {
   "cell_type": "markdown",
   "id": "e5bce9b6",
   "metadata": {},
   "source": [
    "#### 7-1-3. Transformer Model"
   ]
  },
  {
   "cell_type": "code",
   "execution_count": 39,
   "id": "330b4a10",
   "metadata": {},
   "outputs": [],
   "source": [
    "word_vector_dim = 128  # 모델 작성 시 지정한 embed_dim\n",
    "# 학습한 Embedding 파라미터를 파일에 써서 저장합니다. \n",
    "f = open(word2vec_file_path+'TRF_word2vec.txt', 'w')\n",
    "# 몇개의 벡터를 얼마 사이즈로 기재할지 타이틀을 씁니다.\n",
    "f.write('{} {}\\n'.format(vocab_size-4, word_vector_dim))\n",
    "\n",
    "# 단어 개수(에서 특수문자 4개는 제외하고)만큼의 워드 벡터를 파일에 기록합니다. \n",
    "vectors = TRF_model.get_weights()[0]\n",
    "for i in range(4,vocab_size):\n",
    "    f.write('{} {}\\n'.format(index_to_word[i], ' '.join(map(str, list(vectors[i, :])))))\n",
    "f.close()"
   ]
  },
  {
   "cell_type": "code",
   "execution_count": 40,
   "id": "26bb8730",
   "metadata": {},
   "outputs": [
    {
     "data": {
      "text/plain": [
       "[('재미있', 0.9022637605667114),\n",
       " ('수작', 0.8906489014625549),\n",
       " ('짱', 0.8792860507965088),\n",
       " ('감사', 0.8751798272132874),\n",
       " ('눈물', 0.8732578158378601),\n",
       " ('걸작', 0.8730859160423279),\n",
       " ('푹', 0.8718368411064148),\n",
       " ('돌파', 0.871342658996582),\n",
       " ('이동욱', 0.8712431788444519),\n",
       " ('굳', 0.870996356010437)]"
      ]
     },
     "execution_count": 40,
     "metadata": {},
     "output_type": "execute_result"
    }
   ],
   "source": [
    "vectors = Word2VecKeyedVectors.load_word2vec_format(word2vec_file_path+'TRF_word2vec.txt', binary=False)\n",
    "vectors.similar_by_word(\"사랑\")"
   ]
  },
  {
   "cell_type": "code",
   "execution_count": 41,
   "id": "4f9b7d33",
   "metadata": {},
   "outputs": [
    {
     "data": {
      "text/plain": [
       "[('끝판', 0.7103278040885925),\n",
       " ('노튼', 0.7046157717704773),\n",
       " ('놀라움', 0.6968554854393005),\n",
       " ('·', 0.6925457715988159),\n",
       " ('무상', 0.6910058856010437),\n",
       " ('스럽', 0.6623117923736572),\n",
       " ('영화제', 0.6606156229972839),\n",
       " ('새롭', 0.658432126045227),\n",
       " ('매튜', 0.6581020355224609),\n",
       " ('..!!!', 0.6569390892982483)]"
      ]
     },
     "execution_count": 41,
     "metadata": {},
     "output_type": "execute_result"
    }
   ],
   "source": [
    "vectors.similar_by_word(\"컴퓨터\")"
   ]
  },
  {
   "cell_type": "markdown",
   "id": "8048db81",
   "metadata": {},
   "source": [
    "### 7-2. 사전학습 임베딩"
   ]
  },
  {
   "cell_type": "code",
   "execution_count": 42,
   "id": "4c95c756",
   "metadata": {},
   "outputs": [
    {
     "data": {
      "text/plain": [
       "array([ 1.07421875e-01, -2.01171875e-01,  1.23046875e-01,  2.11914062e-01,\n",
       "       -9.13085938e-02,  2.16796875e-01, -1.31835938e-01,  8.30078125e-02,\n",
       "        2.02148438e-01,  4.78515625e-02,  3.66210938e-02, -2.45361328e-02,\n",
       "        2.39257812e-02, -1.60156250e-01, -2.61230469e-02,  9.71679688e-02,\n",
       "       -6.34765625e-02,  1.84570312e-01,  1.70898438e-01, -1.63085938e-01,\n",
       "       -1.09375000e-01,  1.49414062e-01, -4.65393066e-04,  9.61914062e-02,\n",
       "        1.68945312e-01,  2.60925293e-03,  8.93554688e-02,  6.49414062e-02,\n",
       "        3.56445312e-02, -6.93359375e-02, -1.46484375e-01, -1.21093750e-01,\n",
       "       -2.27539062e-01,  2.45361328e-02, -1.24511719e-01, -3.18359375e-01,\n",
       "       -2.20703125e-01,  1.30859375e-01,  3.66210938e-02, -3.63769531e-02,\n",
       "       -1.13281250e-01,  1.95312500e-01,  9.76562500e-02,  1.26953125e-01,\n",
       "        6.59179688e-02,  6.93359375e-02,  1.02539062e-02,  1.75781250e-01,\n",
       "       -1.68945312e-01,  1.21307373e-03, -2.98828125e-01, -1.15234375e-01,\n",
       "        5.66406250e-02, -1.77734375e-01, -2.08984375e-01,  1.76757812e-01,\n",
       "        2.38037109e-02, -2.57812500e-01, -4.46777344e-02,  1.88476562e-01,\n",
       "        5.51757812e-02,  5.02929688e-02, -1.06933594e-01,  1.89453125e-01,\n",
       "       -1.16210938e-01,  8.49609375e-02, -1.71875000e-01,  2.45117188e-01,\n",
       "       -1.73828125e-01, -8.30078125e-03,  4.56542969e-02, -1.61132812e-02,\n",
       "        1.86523438e-01, -6.05468750e-02, -4.17480469e-02,  1.82617188e-01,\n",
       "        2.20703125e-01, -1.22558594e-01, -2.55126953e-02, -3.08593750e-01,\n",
       "        9.13085938e-02,  1.60156250e-01,  1.70898438e-01,  1.19628906e-01,\n",
       "        7.08007812e-02, -2.64892578e-02, -3.08837891e-02,  4.06250000e-01,\n",
       "       -1.01562500e-01,  5.71289062e-02, -7.26318359e-03, -9.17968750e-02,\n",
       "       -1.50390625e-01, -2.55859375e-01,  2.16796875e-01, -3.63769531e-02,\n",
       "        2.24609375e-01,  8.00781250e-02,  1.56250000e-01,  5.27343750e-02,\n",
       "        1.50390625e-01, -1.14746094e-01, -8.64257812e-02,  1.19140625e-01,\n",
       "       -7.17773438e-02,  2.73437500e-01, -1.64062500e-01,  7.29370117e-03,\n",
       "        4.21875000e-01, -1.12792969e-01, -1.35742188e-01, -1.31835938e-01,\n",
       "       -1.37695312e-01, -7.66601562e-02,  6.25000000e-02,  4.98046875e-02,\n",
       "       -1.91406250e-01, -6.03027344e-02,  2.27539062e-01,  5.88378906e-02,\n",
       "       -3.24218750e-01,  5.41992188e-02, -1.35742188e-01,  8.17871094e-03,\n",
       "       -5.24902344e-02, -1.74713135e-03, -9.81445312e-02, -2.86865234e-02,\n",
       "        3.61328125e-02,  2.15820312e-01,  5.98144531e-02, -3.08593750e-01,\n",
       "       -2.27539062e-01,  2.61718750e-01,  9.86328125e-02, -5.07812500e-02,\n",
       "        1.78222656e-02,  1.31835938e-01, -5.35156250e-01, -1.81640625e-01,\n",
       "        1.38671875e-01, -3.10546875e-01, -9.71679688e-02,  1.31835938e-01,\n",
       "       -1.16210938e-01,  7.03125000e-02,  2.85156250e-01,  3.51562500e-02,\n",
       "       -1.01562500e-01, -3.75976562e-02,  1.41601562e-01,  1.42578125e-01,\n",
       "       -5.68847656e-02,  2.65625000e-01, -2.09960938e-01,  9.64355469e-03,\n",
       "       -6.68945312e-02, -4.83398438e-02, -6.10351562e-02,  2.45117188e-01,\n",
       "       -9.66796875e-02,  1.78222656e-02, -1.27929688e-01, -4.78515625e-02,\n",
       "       -7.26318359e-03,  1.79687500e-01,  2.78320312e-02, -2.10937500e-01,\n",
       "       -1.43554688e-01, -1.27929688e-01,  1.73339844e-02, -3.60107422e-03,\n",
       "       -2.04101562e-01,  3.63159180e-03, -1.19628906e-01, -6.15234375e-02,\n",
       "        5.93261719e-02, -3.23486328e-03, -1.70898438e-01, -3.14941406e-02,\n",
       "       -8.88671875e-02, -2.89062500e-01,  3.44238281e-02, -1.87500000e-01,\n",
       "        2.94921875e-01,  1.58203125e-01, -1.19628906e-01,  7.61718750e-02,\n",
       "        6.39648438e-02, -4.68750000e-02, -6.83593750e-02,  1.21459961e-02,\n",
       "       -1.44531250e-01,  4.54101562e-02,  3.68652344e-02,  3.88671875e-01,\n",
       "        1.45507812e-01, -2.55859375e-01, -4.46777344e-02, -1.33789062e-01,\n",
       "       -1.38671875e-01,  6.59179688e-02,  1.37695312e-01,  1.14746094e-01,\n",
       "        2.03125000e-01, -4.78515625e-02,  1.80664062e-02, -8.54492188e-02,\n",
       "       -2.48046875e-01, -3.39843750e-01, -2.83203125e-02,  1.05468750e-01,\n",
       "       -2.14843750e-01, -8.74023438e-02,  7.12890625e-02,  1.87500000e-01,\n",
       "       -1.12304688e-01,  2.73437500e-01, -3.26171875e-01, -1.77734375e-01,\n",
       "       -4.24804688e-02, -2.69531250e-01,  6.64062500e-02, -6.88476562e-02,\n",
       "       -1.99218750e-01, -7.03125000e-02, -2.43164062e-01, -3.66210938e-02,\n",
       "       -7.37304688e-02, -1.77734375e-01,  9.17968750e-02, -1.25000000e-01,\n",
       "       -1.65039062e-01, -3.57421875e-01, -2.85156250e-01, -1.66992188e-01,\n",
       "        1.97265625e-01, -1.53320312e-01,  2.31933594e-02,  2.06054688e-01,\n",
       "        1.80664062e-01, -2.74658203e-02, -1.92382812e-01, -9.61914062e-02,\n",
       "       -1.06811523e-02, -4.73632812e-02,  6.54296875e-02, -1.25732422e-02,\n",
       "        1.78222656e-02, -8.00781250e-02, -2.59765625e-01,  9.37500000e-02,\n",
       "       -7.81250000e-02,  4.68750000e-02, -2.22167969e-02,  1.86767578e-02,\n",
       "        3.11279297e-02,  1.04980469e-02, -1.69921875e-01,  2.58789062e-02,\n",
       "       -3.41796875e-02, -1.44042969e-02, -5.46875000e-02, -8.78906250e-02,\n",
       "        1.96838379e-03,  2.23632812e-01, -1.36718750e-01,  1.75781250e-01,\n",
       "       -1.63085938e-01,  1.87500000e-01,  3.44238281e-02, -5.63964844e-02,\n",
       "       -2.27689743e-05,  4.27246094e-02,  5.81054688e-02, -1.07910156e-01,\n",
       "       -3.88183594e-02, -2.69531250e-01,  3.34472656e-02,  9.81445312e-02,\n",
       "        5.63964844e-02,  2.23632812e-01, -5.49316406e-02,  1.46484375e-01,\n",
       "        5.93261719e-02, -2.19726562e-01,  6.39648438e-02,  1.66015625e-02,\n",
       "        4.56542969e-02,  3.26171875e-01, -3.80859375e-01,  1.70898438e-01,\n",
       "        5.66406250e-02, -1.04492188e-01,  1.38671875e-01, -1.57226562e-01,\n",
       "        3.23486328e-03, -4.80957031e-02, -2.48046875e-01, -6.20117188e-02],\n",
       "      dtype=float32)"
      ]
     },
     "execution_count": 42,
     "metadata": {},
     "output_type": "execute_result"
    }
   ],
   "source": [
    "word2vec_path = \\\n",
    "    os.getenv('HOME')+'/aiffel/sentiment_classification/data/GoogleNews-vectors-negative300.bin.gz'\n",
    "word2vec = KeyedVectors.load_word2vec_format(word2vec_path, binary=True, limit=None)  # 300만개 로딩\n",
    "vector = word2vec['computer']\n",
    "vector  # 무려 300dim의 워드 벡터입니다."
   ]
  },
  {
   "cell_type": "code",
   "execution_count": 43,
   "id": "8a3df582",
   "metadata": {},
   "outputs": [
    {
     "data": {
      "text/plain": [
       "[('loved', 0.6907791495323181),\n",
       " ('adore', 0.6816873550415039),\n",
       " ('loves', 0.661863386631012),\n",
       " ('passion', 0.6100708842277527),\n",
       " ('hate', 0.600395679473877),\n",
       " ('loving', 0.5886635780334473),\n",
       " ('Ilove', 0.5702950954437256),\n",
       " ('affection', 0.5664337873458862),\n",
       " ('undying_love', 0.5547304749488831),\n",
       " ('absolutely_adore', 0.5536840558052063)]"
      ]
     },
     "execution_count": 43,
     "metadata": {},
     "output_type": "execute_result"
    }
   ],
   "source": [
    "word2vec.similar_by_word(\"love\")"
   ]
  },
  {
   "cell_type": "code",
   "execution_count": 44,
   "id": "b233a943",
   "metadata": {},
   "outputs": [
    {
     "data": {
      "text/plain": [
       "[('computers', 0.7979379892349243),\n",
       " ('laptop', 0.6640493273735046),\n",
       " ('laptop_computer', 0.6548868417739868),\n",
       " ('Computer', 0.647333562374115),\n",
       " ('com_puter', 0.6082080006599426),\n",
       " ('technician_Leonard_Luchko', 0.5662748217582703),\n",
       " ('mainframes_minicomputers', 0.5617720484733582),\n",
       " ('laptop_computers', 0.5585449934005737),\n",
       " ('PC', 0.5539618730545044),\n",
       " ('maker_Dell_DELL.O', 0.5519254207611084)]"
      ]
     },
     "execution_count": 44,
     "metadata": {},
     "output_type": "execute_result"
    }
   ],
   "source": [
    "word2vec.similar_by_word(\"computer\")"
   ]
  },
  {
   "cell_type": "markdown",
   "id": "c17af752",
   "metadata": {},
   "source": [
    "#### 사전학습 임베딩의 단어 유사도가 자체학습 임베딩에 비하여 월등히 우수함을 알 수 있다."
   ]
  },
  {
   "cell_type": "markdown",
   "id": "25b5a6ab",
   "metadata": {},
   "source": [
    "### 7-3. Word2Vector 임베딩을 적용한 학습"
   ]
  },
  {
   "cell_type": "code",
   "execution_count": 45,
   "id": "ce3b195d",
   "metadata": {},
   "outputs": [],
   "source": [
    "vocab_size = 10000     # 어휘 사전의 크기 (10,000개의 단어)\n",
    "word_vector_dim = 300  # 워드 벡터의 차원수\n",
    "\n",
    "embedding_matrix = np.random.rand(vocab_size, word_vector_dim)\n",
    "# embedding_matrix에 Word2Vec 워드 벡터를 단어 하나씩마다 차례차례 카피\n",
    "for i in range(4,vocab_size):\n",
    "    if index_to_word[i] in word2vec:\n",
    "        embedding_matrix[i] = word2vec[index_to_word[i]]"
   ]
  },
  {
   "cell_type": "code",
   "execution_count": 46,
   "id": "a45cb102",
   "metadata": {},
   "outputs": [
    {
     "name": "stdout",
     "output_type": "stream",
     "text": [
      "Model: \"sequential_3\"\n",
      "_________________________________________________________________\n",
      "Layer (type)                 Output Shape              Param #   \n",
      "=================================================================\n",
      "embedding_4 (Embedding)      (None, 41, 300)           3000000   \n",
      "_________________________________________________________________\n",
      "conv1d_2 (Conv1D)            (None, 35, 16)            33616     \n",
      "_________________________________________________________________\n",
      "max_pooling1d_1 (MaxPooling1 (None, 7, 16)             0         \n",
      "_________________________________________________________________\n",
      "conv1d_3 (Conv1D)            (None, 1, 16)             1808      \n",
      "_________________________________________________________________\n",
      "global_max_pooling1d_1 (Glob (None, 16)                0         \n",
      "_________________________________________________________________\n",
      "dense_8 (Dense)              (None, 8)                 136       \n",
      "_________________________________________________________________\n",
      "dense_9 (Dense)              (None, 1)                 9         \n",
      "=================================================================\n",
      "Total params: 3,035,569\n",
      "Trainable params: 3,035,569\n",
      "Non-trainable params: 0\n",
      "_________________________________________________________________\n"
     ]
    }
   ],
   "source": [
    "## 모델 구성\n",
    "\n",
    "EMBD_model = tf.keras.Sequential()\n",
    "EMBD_model.add(tf.keras.layers.Embedding(vocab_size, \n",
    "                            word_vector_dim, \n",
    "                            embeddings_initializer=Constant(embedding_matrix),  # 카피한 임베딩 활용\n",
    "                            input_length=maxlen_adj, \n",
    "                            trainable=True))  # trainable을 True로 주면 Fine-tuning\n",
    "EMBD_model.add(tf.keras.layers.Conv1D(16, 7, activation='relu'))\n",
    "EMBD_model.add(tf.keras.layers.MaxPooling1D(5))\n",
    "EMBD_model.add(tf.keras.layers.Conv1D(16, 7, activation='relu'))\n",
    "EMBD_model.add(tf.keras.layers.GlobalMaxPooling1D())\n",
    "EMBD_model.add(tf.keras.layers.Dense(8, activation='relu'))\n",
    "EMBD_model.add(tf.keras.layers.Dense(1, activation='sigmoid')) \n",
    "EMBD_model.summary()"
   ]
  },
  {
   "cell_type": "code",
   "execution_count": 47,
   "id": "4f4d3bc0",
   "metadata": {},
   "outputs": [
    {
     "name": "stdout",
     "output_type": "stream",
     "text": [
      "Epoch 1/10\n",
      "227/227 [==============================] - 3s 9ms/step - loss: 0.6924 - accuracy: 0.5065 - val_loss: 0.6759 - val_accuracy: 0.5143\n",
      "Epoch 2/10\n",
      "227/227 [==============================] - 2s 8ms/step - loss: 0.5036 - accuracy: 0.7570 - val_loss: 0.3813 - val_accuracy: 0.8319\n",
      "Epoch 3/10\n",
      "227/227 [==============================] - 2s 8ms/step - loss: 0.3494 - accuracy: 0.8509 - val_loss: 0.3523 - val_accuracy: 0.8485\n",
      "Epoch 4/10\n",
      "227/227 [==============================] - 2s 8ms/step - loss: 0.3050 - accuracy: 0.8740 - val_loss: 0.3473 - val_accuracy: 0.8512\n",
      "Epoch 5/10\n",
      "227/227 [==============================] - 2s 8ms/step - loss: 0.2780 - accuracy: 0.8874 - val_loss: 0.3810 - val_accuracy: 0.8333\n",
      "Epoch 6/10\n",
      "227/227 [==============================] - 2s 8ms/step - loss: 0.2516 - accuracy: 0.9007 - val_loss: 0.3750 - val_accuracy: 0.8423\n",
      "Epoch 7/10\n",
      "227/227 [==============================] - 2s 8ms/step - loss: 0.2259 - accuracy: 0.9135 - val_loss: 0.3827 - val_accuracy: 0.8418\n",
      "Epoch 8/10\n",
      "227/227 [==============================] - 2s 8ms/step - loss: 0.2004 - accuracy: 0.9258 - val_loss: 0.3953 - val_accuracy: 0.8430\n",
      "Epoch 9/10\n",
      "227/227 [==============================] - 2s 8ms/step - loss: 0.1767 - accuracy: 0.9368 - val_loss: 0.4130 - val_accuracy: 0.8428\n",
      "Epoch 10/10\n",
      "227/227 [==============================] - 2s 8ms/step - loss: 0.1510 - accuracy: 0.9486 - val_loss: 0.4349 - val_accuracy: 0.8411\n"
     ]
    }
   ],
   "source": [
    "## Model 학습\n",
    "\n",
    "EMBD_model.compile(optimizer='adam',\n",
    "                  loss='binary_crossentropy',\n",
    "                  metrics=['accuracy'])\n",
    "              \n",
    "epochs=10  # 몇 epoch를 훈련하면 좋을지 결과를 보면서 변경\n",
    "EMBD_history = EMBD_model.fit(partial_x_train,\n",
    "                              partial_y_train,\n",
    "                              epochs=epochs,\n",
    "                              batch_size=512,\n",
    "                              validation_data=(x_val, y_val),\n",
    "                              verbose=1)"
   ]
  },
  {
   "cell_type": "code",
   "execution_count": 48,
   "id": "6a0fa386",
   "metadata": {},
   "outputs": [
    {
     "name": "stdout",
     "output_type": "stream",
     "text": [
      "1537/1537 - 3s - loss: 0.4567 - accuracy: 0.8311\n",
      "[0.4566746652126312, 0.8311328887939453]\n"
     ]
    }
   ],
   "source": [
    "## 테스트셋을 통한 모델 평가\n",
    "\n",
    "results = EMBD_model.evaluate(x_test,  y_test, verbose=2)\n",
    "print(results)"
   ]
  },
  {
   "cell_type": "markdown",
   "id": "b340f0a8",
   "metadata": {},
   "source": [
    "### 7-4. Loss, Accuracy 그래프 시각화"
   ]
  },
  {
   "cell_type": "code",
   "execution_count": 49,
   "id": "db52a20c",
   "metadata": {},
   "outputs": [
    {
     "name": "stdout",
     "output_type": "stream",
     "text": [
      "dict_keys(['loss', 'accuracy', 'val_loss', 'val_accuracy'])\n"
     ]
    }
   ],
   "source": [
    "EMBD_history_dict = EMBD_history.history\n",
    "print(EMBD_history_dict.keys())"
   ]
  },
  {
   "cell_type": "code",
   "execution_count": 50,
   "id": "494d8f49",
   "metadata": {},
   "outputs": [
    {
     "data": {
      "image/png": "[encoded data removed]",
      "text/plain": [
       "<Figure size 432x288 with 1 Axes>"
      ]
     },
     "metadata": {
      "needs_background": "light"
     },
     "output_type": "display_data"
    }
   ],
   "source": [
    "acc = EMBD_history_dict['accuracy']\n",
    "val_acc = EMBD_history_dict['val_accuracy']\n",
    "loss = EMBD_history_dict['loss']\n",
    "val_loss = EMBD_history_dict['val_loss']\n",
    "\n",
    "epochs = range(1, len(acc) + 1)\n",
    "\n",
    "# bo는 파란색 점\n",
    "plt.plot(epochs, loss, 'bo', label='Training loss')\n",
    "# b는 파란색 실선\n",
    "plt.plot(epochs, val_loss, 'b', label='Validation loss')\n",
    "plt.title('Training and validation loss')\n",
    "plt.xlabel('Epochs')\n",
    "plt.ylabel('Loss')\n",
    "plt.legend()\n",
    "\n",
    "plt.show()"
   ]
  },
  {
   "cell_type": "code",
   "execution_count": 51,
   "id": "4682cac7",
   "metadata": {},
   "outputs": [
    {
     "data": {
      "image/png": "[encoded data removed]",
      "text/plain": [
       "<Figure size 432x288 with 1 Axes>"
      ]
     },
     "metadata": {
      "needs_background": "light"
     },
     "output_type": "display_data"
    }
   ],
   "source": [
    "plt.clf()  # 그림을 초기화\n",
    "\n",
    "plt.plot(epochs, acc, 'bo', label='Training acc')\n",
    "plt.plot(epochs, val_acc, 'b', label='Validation acc')\n",
    "plt.title('Training and validation accuracy')\n",
    "plt.xlabel('Epochs')\n",
    "plt.ylabel('Accuracy')\n",
    "plt.legend()\n",
    "\n",
    "plt.show()"
   ]
  },
  {
   "cell_type": "markdown",
   "id": "0d93e946",
   "metadata": {},
   "source": [
    "### 7-5. 학습된 Embedding 레이어 분석"
   ]
  },
  {
   "cell_type": "code",
   "execution_count": 52,
   "id": "f12edbf4",
   "metadata": {},
   "outputs": [
    {
     "name": "stdout",
     "output_type": "stream",
     "text": [
      "(10000, 300)\n"
     ]
    }
   ],
   "source": [
    "embedding_layer = EMBD_model.layers[0]\n",
    "weights = embedding_layer.get_weights()[0]\n",
    "print(weights.shape)  # shape: (vocab_size, embedding_dim)"
   ]
  },
  {
   "cell_type": "code",
   "execution_count": 53,
   "id": "4c65b673",
   "metadata": {},
   "outputs": [],
   "source": [
    "# 학습한 Embedding 파라미터를 파일에 저장 \n",
    "word_vector_dim = 300\n",
    "word2vec_file_path = os.getenv('HOME')+'/aiffel/sentiment_classification/Embed_word2vec.txt'\n",
    "\n",
    "# 몇개의 벡터를 얼마 사이즈로 기재할지 타이틀을 씁니다.\n",
    "f = open(word2vec_file_path, 'w')\n",
    "f.write('{} {}\\n'.format(vocab_size-4, word_vector_dim))\n",
    "\n",
    "# 단어 개수(에서 특수문자 4개는 제외하고)만큼의 워드 벡터를 파일에 저장\n",
    "vectors = EMBD_model.get_weights()[0]\n",
    "for i in range(4,vocab_size):\n",
    "    f.write('{} {}\\n'.format(index_to_word[i], ' '.join(map(str, list(vectors[i, :])))))\n",
    "f.close()"
   ]
  },
  {
   "cell_type": "code",
   "execution_count": 54,
   "id": "d6c6e155",
   "metadata": {},
   "outputs": [
    {
     "data": {
      "text/plain": [
       "[('♡', 0.7005444169044495),\n",
       " ('great', 0.63471519947052),\n",
       " ('very', 0.6088501214981079),\n",
       " ('good', 0.6052876114845276),\n",
       " ('best', 0.5929969549179077),\n",
       " ('♥', 0.5883083343505859),\n",
       " ('we', 0.5150853991508484),\n",
       " ('It', 0.4842403829097748),\n",
       " ('me', 0.4824000597000122),\n",
       " ('top', 0.48140767216682434)]"
      ]
     },
     "execution_count": 54,
     "metadata": {},
     "output_type": "execute_result"
    }
   ],
   "source": [
    "# 임베딩 파라미터 확인\n",
    "word_vectors = Word2VecKeyedVectors.load_word2vec_format(word2vec_file_path, binary=False)\n",
    "word_vectors.similar_by_word(\"love\")"
   ]
  },
  {
   "cell_type": "code",
   "execution_count": 55,
   "id": "d0d6a5f3",
   "metadata": {},
   "outputs": [
    {
     "data": {
      "text/plain": [
       "[('computers', 0.7979379892349243),\n",
       " ('laptop', 0.6640493273735046),\n",
       " ('laptop_computer', 0.6548868417739868),\n",
       " ('Computer', 0.647333562374115),\n",
       " ('com_puter', 0.6082080006599426),\n",
       " ('technician_Leonard_Luchko', 0.5662748217582703),\n",
       " ('mainframes_minicomputers', 0.5617720484733582),\n",
       " ('laptop_computers', 0.5585449934005737),\n",
       " ('PC', 0.5539618730545044),\n",
       " ('maker_Dell_DELL.O', 0.5519254207611084)]"
      ]
     },
     "execution_count": 55,
     "metadata": {},
     "output_type": "execute_result"
    }
   ],
   "source": [
    "word2vec.similar_by_word(\"computer\")"
   ]
  },
  {
   "cell_type": "markdown",
   "id": "f7010d1b",
   "metadata": {},
   "source": [
    "#### Word2Vector를 활용한 자체학습 임베딩의 경우 단어의 유사도가 사전학습에 못지 않음을 알 수 있다."
   ]
  },
  {
   "cell_type": "markdown",
   "id": "9c356258",
   "metadata": {},
   "source": [
    "## 8. 한국어 Word2Vec 임베딩 활용하여 성능 개선\n",
    "Word2Vec 임베딩은 8-10 에서 학습한 내용을 적용함"
   ]
  },
  {
   "cell_type": "code",
   "execution_count": 56,
   "id": "9a8525aa",
   "metadata": {},
   "outputs": [
    {
     "data": {
      "text/plain": [
       "array([ 3.6889346 , -3.2576382 , -2.6349437 , -0.11572476,  0.58762413,\n",
       "       -0.16673814,  0.9697601 ,  0.27856505, -0.92762107,  2.241611  ,\n",
       "        2.8666036 ,  0.458429  , -2.007293  ,  1.9756018 ,  2.9543707 ,\n",
       "        0.17504454, -1.0210766 ,  0.6119247 ,  0.9948327 , -2.6716058 ,\n",
       "       -3.3571372 ,  2.8433375 , -0.64212775,  0.2906057 ,  0.66890335,\n",
       "        0.6893659 ,  0.19818003,  0.8735505 ,  2.6482987 , -0.188396  ,\n",
       "       -1.997001  , -2.1050427 , -3.5394318 ,  0.57390505,  0.09716978,\n",
       "        1.7057031 , -2.3355813 ,  1.624613  ,  0.27012238,  1.6980075 ,\n",
       "       -1.5318449 , -0.59364384, -1.3710705 ,  3.4411204 ,  1.1825829 ,\n",
       "        2.1342924 ,  2.8075287 ,  2.1308038 ,  2.7114947 , -0.3305534 ,\n",
       "        2.3805175 , -0.04170982,  1.2907016 , -2.8457797 , -0.91359496,\n",
       "       -3.9291334 ,  0.3625686 , -1.7948011 ,  1.1991819 ,  3.9061072 ,\n",
       "        4.1032424 , -0.88820845,  1.1552868 , -3.5846636 , -1.7109742 ,\n",
       "       -2.9963055 , -0.5262824 , -0.2760053 , -1.5208707 , -0.9023874 ,\n",
       "        4.7435007 , -1.3133469 ,  2.1168191 , -0.87373424, -2.4436004 ,\n",
       "       -1.9051615 , -0.84488285, -1.8945997 ,  0.22802861, -2.6217408 ,\n",
       "        1.3432907 , -0.37636617,  0.8110108 , -0.07422648, -0.22181477,\n",
       "        0.0278148 ,  1.0129365 ,  2.436287  ,  2.533199  , -5.094798  ,\n",
       "       -4.817596  , -2.8704007 ,  0.85990345, -3.4413095 ,  0.5718161 ,\n",
       "        1.1907237 , -1.2146701 ,  0.5228056 ,  3.2550118 , -2.1253808 ],\n",
       "      dtype=float32)"
      ]
     },
     "execution_count": 56,
     "metadata": {},
     "output_type": "execute_result"
    }
   ],
   "source": [
    "word2vec_file_path = os.getenv('HOME')+'/data/word2vec_ko.model'\n",
    "word_vectors = Word2VecKeyedVectors.load(word2vec_file_path)\n",
    "vector = word_vectors.wv['행복']\n",
    "vector"
   ]
  },
  {
   "cell_type": "code",
   "execution_count": 57,
   "id": "ce3cdc96",
   "metadata": {},
   "outputs": [],
   "source": [
    "vocab_size = 10000     # 어휘 사전의 크기 (10,000개의 단어)\n",
    "word_vector_dim = 300  # 워드 벡터의 차원수 (변경가능한 하이퍼파라미터)\n",
    "\n",
    "embedding_matrix = np.random.rand(vocab_size, word_vector_dim)\n",
    "\n",
    "# embedding_matrix에 Word2Vec 워드벡터를 단어 하나씩마다 차례차례 카피\n",
    "for i in range(4,vocab_size):\n",
    "    if index_to_word[i] in word2vec:\n",
    "        embedding_matrix[i] = word2vec[index_to_word[i]]"
   ]
  },
  {
   "cell_type": "markdown",
   "id": "eafb9c96",
   "metadata": {},
   "source": [
    "### 모델 구성"
   ]
  },
  {
   "cell_type": "code",
   "execution_count": 58,
   "id": "3c0db68c",
   "metadata": {},
   "outputs": [
    {
     "name": "stdout",
     "output_type": "stream",
     "text": [
      "WARNING:tensorflow:Layer lstm_1 will not use cuDNN kernels since it doesn't meet the criteria. It will use a generic GPU kernel as fallback when running on GPU.\n",
      "Model: \"sequential_4\"\n",
      "_________________________________________________________________\n",
      "Layer (type)                 Output Shape              Param #   \n",
      "=================================================================\n",
      "embedding_5 (Embedding)      (None, 41, 300)           3000000   \n",
      "_________________________________________________________________\n",
      "lstm_1 (LSTM)                (None, 128)               219648    \n",
      "_________________________________________________________________\n",
      "dense_10 (Dense)             (None, 64)                8256      \n",
      "_________________________________________________________________\n",
      "dense_11 (Dense)             (None, 1)                 65        \n",
      "=================================================================\n",
      "Total params: 3,227,969\n",
      "Trainable params: 3,227,969\n",
      "Non-trainable params: 0\n",
      "_________________________________________________________________\n"
     ]
    }
   ],
   "source": [
    "# 모델 구성\n",
    "kor_model = tf.keras.Sequential()\n",
    "kor_model.add(tf.keras.layers.Embedding(vocab_size, \n",
    "                            word_vector_dim, \n",
    "                            embeddings_initializer=Constant(embedding_matrix),  # 카피한 임베딩 활용\n",
    "                            input_length=maxlen_adj, \n",
    "                            trainable=True))   # trainable을 True로 주면 Fine-tuning\n",
    "kor_model.add(tf.keras.layers.LSTM(128, dropout=0.3, recurrent_dropout=0.3))\n",
    "kor_model.add(tf.keras.layers.Dense(64, activation='relu'))\n",
    "kor_model.add(tf.keras.layers.Dense(1, activation='sigmoid')) \n",
    "\n",
    "kor_model.summary()"
   ]
  },
  {
   "cell_type": "markdown",
   "id": "e4674b6a",
   "metadata": {},
   "source": [
    "### 모델 훈련"
   ]
  },
  {
   "cell_type": "code",
   "execution_count": 59,
   "id": "5e9be9f6",
   "metadata": {},
   "outputs": [
    {
     "name": "stdout",
     "output_type": "stream",
     "text": [
      "Epoch 1/10\n",
      "227/227 [==============================] - 46s 191ms/step - loss: 0.5355 - accuracy: 0.7125 - val_loss: 0.3802 - val_accuracy: 0.8319\n",
      "Epoch 2/10\n",
      "227/227 [==============================] - 43s 190ms/step - loss: 0.3824 - accuracy: 0.8293 - val_loss: 0.3644 - val_accuracy: 0.8372\n",
      "Epoch 3/10\n",
      "227/227 [==============================] - 43s 189ms/step - loss: 0.3435 - accuracy: 0.8509 - val_loss: 0.3351 - val_accuracy: 0.8546\n",
      "Epoch 4/10\n",
      "227/227 [==============================] - 43s 191ms/step - loss: 0.3229 - accuracy: 0.8619 - val_loss: 0.3391 - val_accuracy: 0.8505\n",
      "Epoch 5/10\n",
      "227/227 [==============================] - 43s 188ms/step - loss: 0.3087 - accuracy: 0.8689 - val_loss: 0.3279 - val_accuracy: 0.8562\n",
      "Epoch 6/10\n",
      "227/227 [==============================] - 43s 187ms/step - loss: 0.2937 - accuracy: 0.8762 - val_loss: 0.3293 - val_accuracy: 0.8578\n",
      "Epoch 7/10\n",
      "227/227 [==============================] - 42s 187ms/step - loss: 0.2812 - accuracy: 0.8824 - val_loss: 0.3274 - val_accuracy: 0.8591\n",
      "Epoch 8/10\n",
      "227/227 [==============================] - 42s 186ms/step - loss: 0.2693 - accuracy: 0.8888 - val_loss: 0.3253 - val_accuracy: 0.8612\n",
      "Epoch 9/10\n",
      "227/227 [==============================] - 42s 187ms/step - loss: 0.2604 - accuracy: 0.8915 - val_loss: 0.3283 - val_accuracy: 0.8611\n",
      "Epoch 10/10\n",
      "227/227 [==============================] - 42s 186ms/step - loss: 0.2476 - accuracy: 0.8981 - val_loss: 0.3353 - val_accuracy: 0.8613\n"
     ]
    }
   ],
   "source": [
    "kor_model.compile(optimizer='adam',\n",
    "                  loss='binary_crossentropy',\n",
    "                  metrics=['accuracy'])\n",
    "              \n",
    "epochs = 10  # 몇 epoch를 훈련하면 좋을지 결과를 보면서 바꾸어 볼것 \n",
    "kor_history = kor_model.fit(partial_x_train,\n",
    "                            partial_y_train,\n",
    "                            epochs=epochs,\n",
    "                            batch_size=512,\n",
    "                            validation_data=(x_val, y_val),\n",
    "                            verbose=1)"
   ]
  },
  {
   "cell_type": "markdown",
   "id": "8b400385",
   "metadata": {},
   "source": [
    "### 테스트셋을 통한 모델 평가"
   ]
  },
  {
   "cell_type": "code",
   "execution_count": 60,
   "id": "e6c7c77d",
   "metadata": {},
   "outputs": [
    {
     "name": "stdout",
     "output_type": "stream",
     "text": [
      "1537/1537 - 20s - loss: 0.3427 - accuracy: 0.8572\n",
      "[0.3426516652107239, 0.8572126030921936]\n"
     ]
    }
   ],
   "source": [
    "results = kor_model.evaluate(x_test, y_test, verbose=2)\n",
    "print(results)"
   ]
  },
  {
   "cell_type": "markdown",
   "id": "956289f8",
   "metadata": {},
   "source": [
    "### Loss, Accuracy 그래프 시각화"
   ]
  },
  {
   "cell_type": "code",
   "execution_count": 61,
   "id": "6a5a668b",
   "metadata": {},
   "outputs": [
    {
     "name": "stdout",
     "output_type": "stream",
     "text": [
      "dict_keys(['loss', 'accuracy', 'val_loss', 'val_accuracy'])\n"
     ]
    }
   ],
   "source": [
    "kor_history_dict = kor_history.history\n",
    "print(kor_history_dict.keys())"
   ]
  },
  {
   "cell_type": "code",
   "execution_count": 62,
   "id": "bf6dab0d",
   "metadata": {},
   "outputs": [
    {
     "data": {
      "image/png": "[encoded data removed]",
      "text/plain": [
       "<Figure size 432x288 with 1 Axes>"
      ]
     },
     "metadata": {
      "needs_background": "light"
     },
     "output_type": "display_data"
    }
   ],
   "source": [
    "acc = kor_history_dict['accuracy']\n",
    "val_acc = kor_history_dict['val_accuracy']\n",
    "loss = kor_history_dict['loss']\n",
    "val_loss = kor_history_dict['val_loss']\n",
    "\n",
    "epochs = range(1, len(acc) + 1)\n",
    "\n",
    "# bo는 파란색 점\n",
    "plt.plot(epochs, loss, 'bo', label='Training loss')\n",
    "# b는 파란 실선\n",
    "plt.plot(epochs, val_loss, 'b', label='Validation loss')\n",
    "plt.title('Training and validation loss')\n",
    "plt.xlabel('Epochs')\n",
    "plt.ylabel('Loss')\n",
    "plt.legend()\n",
    "\n",
    "plt.show()"
   ]
  },
  {
   "cell_type": "code",
   "execution_count": 63,
   "id": "3e841220",
   "metadata": {},
   "outputs": [
    {
     "data": {
      "image/png": "[encoded data removed]",
      "text/plain": [
       "<Figure size 432x288 with 1 Axes>"
      ]
     },
     "metadata": {
      "needs_background": "light"
     },
     "output_type": "display_data"
    }
   ],
   "source": [
    "plt.clf()  # 그림을 초기화\n",
    "\n",
    "plt.plot(epochs, acc, 'bo', label='Training acc')\n",
    "plt.plot(epochs, val_acc, 'b', label='Validation acc')\n",
    "plt.title('Training and validation accuracy')\n",
    "plt.xlabel('Epochs')\n",
    "plt.ylabel('Accuracy')\n",
    "plt.legend()\n",
    "\n",
    "plt.show()"
   ]
  },
  {
   "cell_type": "markdown",
   "id": "dcec188e",
   "metadata": {},
   "source": [
    "## 회고\n",
    "<<이번 프로젝트에서 어려웠던 점>>\n",
    "\n",
    "Transformer model이 요즘 대세라고 하여 구글링을 해 적용해보았으나 Accuracy가 타 모델에 비하여 높지 않았다. 여러가지 변형을 시도해 보았으나 이해하기가 어려워 에러만 발생하고 실패했다.\n",
    "\n",
    "<<프로젝트를 진행하면서 알아낸 점 혹은 아직 모호한 점>>\n",
    "\n",
    "1. RNN, CNN 모델보다 우수한 Transformer model이 있다는것을 알게 되었다.\n",
    "2. LSTM document를 읽어보고 변경 가능한 각 파라미터에 대해 알게되었다,\n",
    "\n",
    "<<루브릭 평가 지표를 맞추기 위해 시도한 것들>>\n",
    "\n",
    "한국어 Word2Vec 임베딩에 8-10에서 학습한 모델을 그대로 적용해 보았으나 Test Accuracy가 83.38%로 목표 85%에 미치지 못하였다.\n",
    "\n",
    "개선을 위하여 시도한 방법:\n",
    "\n",
    "1. CNN Model을 그나마 Accuracy가 높았던 RNN Model로 변경 --> 84.48%로 개선됨\n",
    "2. LSTM Units 수 128, Dense Units 수 64일때 --> 84.61%로 개선됨\n",
    "3. 훈련 진행과정을 볼때 Overfitting이 되는것으로 생각되어 dropout=0.3, recurrent_dropout=0.3 적용 --> 85.72% 달성\n",
    "\n",
    "<<만약에 루브릭 평가 관련 지표를 달성 하지 못했을 때, 이유에 관한 추정>>\n",
    "\n",
    "평가지표를 달성함.\n",
    "\n",
    "<<자기 다짐>>\n",
    "\n",
    "Transformer 모델을 별도로 공부하여 완전히 이해할 수 있도록 노력하겠다.\n"
   ]
  }
 ],
 "metadata": {
  "kernelspec": {
   "display_name": "Python 3 (ipykernel)",
   "language": "python",
   "name": "python3"
  },
  "language_info": {
   "codemirror_mode": {
    "name": "ipython",
    "version": 3
   },
   "file_extension": ".py",
   "mimetype": "text/x-python",
   "name": "python",
   "nbconvert_exporter": "python",
   "pygments_lexer": "ipython3",
   "version": "3.9.7"
  }
 },
 "nbformat": 4,
 "nbformat_minor": 5
}
